{
 "cells": [
  {
   "cell_type": "code",
   "execution_count": 103,
   "metadata": {},
   "outputs": [],
   "source": [
    "# This tutorial demonstrates regression using a small 2-layer Neural Network"
   ]
  },
  {
   "cell_type": "code",
   "execution_count": 104,
   "metadata": {},
   "outputs": [],
   "source": [
    "import torch\n",
    "import numpy as np\n",
    "import matplotlib.pyplot as plt\n",
    "from torch.autograd import Variable\n",
    "import torch.nn as nn\n",
    "import torch.nn.functional as F"
   ]
  },
  {
   "cell_type": "code",
   "execution_count": 105,
   "metadata": {},
   "outputs": [],
   "source": [
    "# initialize data\n",
    "np.random.seed(1)\n",
    "torch.manual_seed(1)\n",
    "x = np.expand_dims(np.linspace(-4, 4, 100), axis=1)\n",
    "y = x ** 2 + np.random.randn(100, 1)"
   ]
  },
  {
   "cell_type": "code",
   "execution_count": 106,
   "metadata": {},
   "outputs": [
    {
     "data": {
      "image/png": "[encoded data removed]",
      "text/plain": [
       "<Figure size 432x288 with 1 Axes>"
      ]
     },
     "metadata": {},
     "output_type": "display_data"
    }
   ],
   "source": [
    "plt.scatter(x, y)\n",
    "plt.title('Non Linear Data')\n",
    "plt.show()"
   ]
  },
  {
   "cell_type": "code",
   "execution_count": 107,
   "metadata": {},
   "outputs": [],
   "source": [
    "x_var = Variable(torch.FloatTensor(x))\n",
    "y_var = Variable(torch.FloatTensor(y))"
   ]
  },
  {
   "cell_type": "code",
   "execution_count": 122,
   "metadata": {},
   "outputs": [],
   "source": [
    "class NeuralNet(nn.Module):\n",
    "    def __init__(self, n_input, n_hidden, n_output):\n",
    "        super(NeuralNet, self).__init__()\n",
    "        self.hidden = nn.Linear(n_input, n_hidden)\n",
    "        self.output = nn.Linear(n_hidden, n_output)\n",
    "    \n",
    "    def forward(self, x):\n",
    "        x = F.relu(self.hidden(x))\n",
    "        x = self.output(x)\n",
    "        return x"
   ]
  },
  {
   "cell_type": "code",
   "execution_count": 123,
   "metadata": {},
   "outputs": [
    {
     "name": "stdout",
     "output_type": "stream",
     "text": [
      "NeuralNet(\n",
      "  (hidden): Linear(in_features=1, out_features=10, bias=True)\n",
      "  (output): Linear(in_features=10, out_features=1, bias=True)\n",
      ")\n"
     ]
    }
   ],
   "source": [
    "net = NeuralNet(1, 10, 1)\n",
    "optimizer = torch.optim.SGD(net.parameters(), lr=0.008)\n",
    "loss_fn = torch.nn.MSELoss()\n",
    "print(net)"
   ]
  },
  {
   "cell_type": "code",
   "execution_count": 124,
   "metadata": {},
   "outputs": [
    {
     "name": "stdout",
     "output_type": "stream",
     "text": [
      "loss after epoch: 0 is: 55.62013\n",
      "loss after epoch: 100 is: 2.88511\n",
      "loss after epoch: 200 is: 1.9989201\n",
      "loss after epoch: 300 is: 1.7074225\n",
      "loss after epoch: 400 is: 1.4995242\n",
      "loss after epoch: 500 is: 1.3310478\n",
      "loss after epoch: 600 is: 1.1891533\n",
      "loss after epoch: 700 is: 1.0945678\n",
      "loss after epoch: 800 is: 1.0228652\n",
      "loss after epoch: 900 is: 0.9634205\n",
      "loss after epoch: 1000 is: 0.91883695\n",
      "loss after epoch: 1100 is: 0.8868092\n",
      "loss after epoch: 1200 is: 0.8587624\n",
      "loss after epoch: 1300 is: 0.84231895\n",
      "loss after epoch: 1400 is: 0.8234387\n",
      "loss after epoch: 1500 is: 0.79664874\n",
      "loss after epoch: 1600 is: 0.790974\n",
      "loss after epoch: 1700 is: 0.7880947\n",
      "loss after epoch: 1800 is: 0.78622705\n",
      "loss after epoch: 1900 is: 0.78346044\n",
      "loss after epoch: 2000 is: 0.7826754\n",
      "loss after epoch: 2100 is: 0.782104\n",
      "loss after epoch: 2200 is: 0.781649\n",
      "loss after epoch: 2300 is: 0.7812769\n",
      "loss after epoch: 2400 is: 0.7809577\n",
      "loss after epoch: 2500 is: 0.7806852\n",
      "loss after epoch: 2600 is: 0.78044945\n",
      "loss after epoch: 2700 is: 0.7802424\n",
      "loss after epoch: 2800 is: 0.7800585\n",
      "loss after epoch: 2900 is: 0.77989286\n",
      "loss after epoch: 3000 is: 0.7797618\n",
      "loss after epoch: 3100 is: 0.7796732\n",
      "loss after epoch: 3200 is: 0.77959615\n",
      "loss after epoch: 3300 is: 0.77953035\n",
      "loss after epoch: 3400 is: 0.77946967\n",
      "loss after epoch: 3500 is: 0.77941346\n",
      "loss after epoch: 3600 is: 0.7793623\n",
      "loss after epoch: 3700 is: 0.779314\n",
      "loss after epoch: 3800 is: 0.7792682\n",
      "loss after epoch: 3900 is: 0.7792251\n",
      "loss after epoch: 4000 is: 0.7791836\n",
      "loss after epoch: 4100 is: 0.7791511\n",
      "loss after epoch: 4200 is: 0.77912545\n",
      "loss after epoch: 4300 is: 0.77909887\n",
      "loss after epoch: 4400 is: 0.7790742\n",
      "loss after epoch: 4500 is: 0.7790505\n",
      "loss after epoch: 4600 is: 0.7790262\n",
      "loss after epoch: 4700 is: 0.7790015\n",
      "loss after epoch: 4800 is: 0.7789773\n",
      "loss after epoch: 4900 is: 0.7789547\n"
     ]
    }
   ],
   "source": [
    "plt.ion()\n",
    "for e in range(5000):\n",
    "    y_pred = net.forward(x_var)\n",
    "    loss = loss_fn(y_pred, y_var)\n",
    "    if e % 100 == 0:\n",
    "        print(\"loss after epoch: \" + str(e) + \" is: \" + str(loss.data.numpy()))\n",
    "    optimizer.zero_grad()\n",
    "    loss.backward()\n",
    "    optimizer.step()"
   ]
  },
  {
   "cell_type": "code",
   "execution_count": 125,
   "metadata": {},
   "outputs": [
    {
     "data": {
      "image/png": "[encoded data removed]",
      "text/plain": [
       "<Figure size 432x288 with 1 Axes>"
      ]
     },
     "metadata": {},
     "output_type": "display_data"
    }
   ],
   "source": [
    "plt.scatter(x, y)\n",
    "plt.plot(x, net.forward(x_var).data.numpy(), 'g-', lw=2)\n",
    "plt.title('Non Linear Data')\n",
    "plt.show()"
   ]
  },
  {
   "cell_type": "code",
   "execution_count": 126,
   "metadata": {},
   "outputs": [],
   "source": [
    "# Observations\n",
    "# Relu gives the output with kinks\n",
    "# Sigmoid and Tanh gives smooth output"
   ]
  },
  {
   "cell_type": "code",
   "execution_count": null,
   "metadata": {},
   "outputs": [],
   "source": []
  }
 ],
 "metadata": {
  "kernelspec": {
   "display_name": "Python 3",
   "language": "python",
   "name": "python3"
  },
  "language_info": {
   "codemirror_mode": {
    "name": "ipython",
    "version": 3
   },
   "file_extension": ".py",
   "mimetype": "text/x-python",
   "name": "python",
   "nbconvert_exporter": "python",
   "pygments_lexer": "ipython3",
   "version": "3.6.4"
  }
 },
 "nbformat": 4,
 "nbformat_minor": 2
}
